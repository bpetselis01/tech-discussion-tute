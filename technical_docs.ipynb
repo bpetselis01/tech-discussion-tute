{
  "nbformat": 4,
  "nbformat_minor": 0,
  "metadata": {
    "colab": {
      "name": "technical-docs.ipynb",
      "provenance": [],
      "authorship_tag": "ABX9TyPvnwtn57CGkfZ0AVLP2HiY",
      "include_colab_link": true
    },
    "kernelspec": {
      "name": "python3",
      "display_name": "Python 3"
    },
    "language_info": {
      "name": "python"
    }
  },
  "cells": [
    {
      "cell_type": "markdown",
      "metadata": {
        "id": "view-in-github",
        "colab_type": "text"
      },
      "source": [
        "<a href=\"https://colab.research.google.com/github/bpetselis01/tech-discussion-tute/blob/main/technical_docs.ipynb\" target=\"_parent\"><img src=\"https://colab.research.google.com/assets/colab-badge.svg\" alt=\"Open In Colab\"/></a>"
      ]
    },
    {
      "cell_type": "markdown",
      "source": [
        "## Hello (Function 1)"
      ],
      "metadata": {
        "id": "k0ZoP3fWt6Sl"
      }
    },
    {
      "cell_type": "code",
      "execution_count": 1,
      "metadata": {
        "colab": {
          "base_uri": "https://localhost:8080/",
          "height": 35
        },
        "id": "L0HVD18EtUyN",
        "outputId": "10144b5e-3d72-4cd6-b9b9-191450a0c522"
      },
      "outputs": [
        {
          "output_type": "execute_result",
          "data": {
            "application/vnd.google.colaboratory.intrinsic+json": {
              "type": "string"
            },
            "text/plain": [
              "'Hello'"
            ]
          },
          "metadata": {},
          "execution_count": 1
        }
      ],
      "source": [
        "def hello():\n",
        "  return \"Hello\"\n",
        "hello()\n"
      ]
    },
    {
      "cell_type": "markdown",
      "source": [
        "## Hello (Function 2)"
      ],
      "metadata": {
        "id": "wbvCL34ot-5v"
      }
    },
    {
      "cell_type": "markdown",
      "source": [
        "### This works just like markdown in Git\n",
        "\n",
        "* One\n",
        "* Two\n",
        "* Three\n",
        "\n",
        "* Can be copied to GitHub through (File Save a Copy in Github)\n",
        "* Find the repo you want it copied to "
      ],
      "metadata": {
        "id": "RvU4GbyKu4Zx"
      }
    },
    {
      "cell_type": "code",
      "source": [
        "def hello1():\n",
        "  return \"Hello!\"\n",
        "hello1()"
      ],
      "metadata": {
        "colab": {
          "base_uri": "https://localhost:8080/",
          "height": 35
        },
        "id": "I6ky5pv7uVyR",
        "outputId": "009db393-f5df-4a92-a1b4-d1e913a705a1"
      },
      "execution_count": 2,
      "outputs": [
        {
          "output_type": "execute_result",
          "data": {
            "application/vnd.google.colaboratory.intrinsic+json": {
              "type": "string"
            },
            "text/plain": [
              "'Hello!'"
            ]
          },
          "metadata": {},
          "execution_count": 2
        }
      ]
    }
  ]
}